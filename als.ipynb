{
  "nbformat": 4,
  "nbformat_minor": 0,
  "metadata": {
    "colab": {
      "provenance": [],
      "include_colab_link": true
    },
    "kernelspec": {
      "name": "python3",
      "display_name": "Python 3"
    },
    "language_info": {
      "name": "python"
    }
  },
  "cells": [
    {
      "cell_type": "markdown",
      "metadata": {
        "id": "view-in-github",
        "colab_type": "text"
      },
      "source": [
        "<a href=\"https://colab.research.google.com/github/zal-eun/khuda_recsys_hm/blob/main/als.ipynb\" target=\"_parent\"><img src=\"https://colab.research.google.com/assets/colab-badge.svg\" alt=\"Open In Colab\"/></a>"
      ]
    },
    {
      "cell_type": "code",
      "execution_count": null,
      "metadata": {
        "id": "pVBcuiAtPPlM"
      },
      "outputs": [],
      "source": [
        "import numpy as np\n",
        "import pandas as pd\n",
        "import matplotlib.pyplot as plt\n",
        "import seaborn as sns\n",
        "import plotly.express as px"
      ]
    },
    {
      "cell_type": "markdown",
      "source": [],
      "metadata": {
        "id": "TnrM8IY47Ff_"
      }
    },
    {
      "cell_type": "code",
      "source": [
        "from google.colab import drive\n",
        "drive.mount('/content/drive')"
      ],
      "metadata": {
        "colab": {
          "base_uri": "https://localhost:8080/"
        },
        "id": "OtpUAdhgPX-K",
        "outputId": "6fd25cce-2433-437f-dc05-23bfb94d2488"
      },
      "execution_count": null,
      "outputs": [
        {
          "output_type": "stream",
          "name": "stdout",
          "text": [
            "Mounted at /content/drive\n"
          ]
        }
      ]
    },
    {
      "cell_type": "code",
      "source": [
        "#articles = pd.read_csv(\"/content/drive/MyDrive/Khuda3차/초기자료/articles.csv\")\n",
        "#customers = pd.read_csv(\"/content/drive/MyDrive/Khuda3차/초기자료/customers.csv\")\n",
        "transactions = pd.read_csv(\"/content/drive/MyDrive/Khuda3차/초기자료/transactions_train.csv\")"
      ],
      "metadata": {
        "id": "Zx7UVyHNPYCG"
      },
      "execution_count": null,
      "outputs": []
    },
    {
      "cell_type": "code",
      "source": [
        "transactions= transactions[['customer_id', 'article_id']]"
      ],
      "metadata": {
        "id": "iBkRgB9voGF7"
      },
      "execution_count": null,
      "outputs": []
    },
    {
      "cell_type": "code",
      "source": [
        "# '0719530003' 값을 가지는 행만 추출하여 새로운 DataFrame으로 가져오기\n",
        "selected_rows = transactions[transactions['customer_id'] == '0000757967448a6cb83efb3ea7a3fb9d418ac7adf2379d8cd0c725276a467a2a']\n",
        "\n",
        "# 결과 확인\n",
        "print(selected_rows)\n",
        "\n",
        "\n",
        "\n",
        "\n"
      ],
      "metadata": {
        "colab": {
          "base_uri": "https://localhost:8080/"
        },
        "id": "PcThUjDXd2dm",
        "outputId": "53cda9cb-a415-435b-fb6e-d0b4a37e6ef4"
      },
      "execution_count": null,
      "outputs": [
        {
          "output_type": "stream",
          "name": "stdout",
          "text": [
            "                                                customer_id  article_id\n",
            "11324052  0000757967448a6cb83efb3ea7a3fb9d418ac7adf2379d...   735843004\n",
            "11324053  0000757967448a6cb83efb3ea7a3fb9d418ac7adf2379d...   726925001\n",
            "18148893  0000757967448a6cb83efb3ea7a3fb9d418ac7adf2379d...   715624008\n",
            "18148894  0000757967448a6cb83efb3ea7a3fb9d418ac7adf2379d...   783388001\n",
            "31492019  0000757967448a6cb83efb3ea7a3fb9d418ac7adf2379d...   719530003\n",
            "31492020  0000757967448a6cb83efb3ea7a3fb9d418ac7adf2379d...   448509014\n"
          ]
        }
      ]
    },
    {
      "cell_type": "code",
      "source": [
        "!pip install pyspark -q"
      ],
      "metadata": {
        "colab": {
          "base_uri": "https://localhost:8080/"
        },
        "id": "IG-Eu6rMPYGj",
        "outputId": "d043ad6c-c031-44f6-abed-20c51c9e2493"
      },
      "execution_count": null,
      "outputs": [
        {
          "output_type": "stream",
          "name": "stdout",
          "text": [
            "\u001b[2K     \u001b[90m━━━━━━━━━━━━━━━━━━━━━━━━━━━━━━━━━━━━━━━\u001b[0m \u001b[32m310.8/310.8 MB\u001b[0m \u001b[31m2.0 MB/s\u001b[0m eta \u001b[36m0:00:00\u001b[0m\n",
            "\u001b[?25h  Preparing metadata (setup.py) ... \u001b[?25l\u001b[?25hdone\n",
            "  Building wheel for pyspark (setup.py) ... \u001b[?25l\u001b[?25hdone\n"
          ]
        }
      ]
    },
    {
      "cell_type": "code",
      "source": [
        "import pyspark\n",
        "from pyspark.sql import SparkSession\n",
        "\n",
        "import warnings\n",
        "warnings.filterwarnings(\"ignore\")\n",
        "\n",
        "spark = SparkSession.builder.appName(\"fashion-recommendations\").getOrCreate()"
      ],
      "metadata": {
        "id": "sB6RrM_mPYLc"
      },
      "execution_count": null,
      "outputs": []
    },
    {
      "cell_type": "code",
      "source": [
        "transactions = (spark.read.format(\"csv\")\n",
        "                .option(\"header\", \"true\")\n",
        "                .load(\"/content/drive/MyDrive/Khuda3차/초기자료/transactions_train.csv\"))\n",
        "transactions.printSchema()\n"
      ],
      "metadata": {
        "colab": {
          "base_uri": "https://localhost:8080/"
        },
        "id": "4YuXb031PYOJ",
        "outputId": "2c3ec8d2-a7de-4373-9359-5c3aa2a5ed8d"
      },
      "execution_count": null,
      "outputs": [
        {
          "output_type": "stream",
          "name": "stdout",
          "text": [
            "root\n",
            " |-- t_dat: string (nullable = true)\n",
            " |-- customer_id: string (nullable = true)\n",
            " |-- article_id: string (nullable = true)\n",
            " |-- price: string (nullable = true)\n",
            " |-- sales_channel_id: string (nullable = true)\n",
            "\n"
          ]
        }
      ]
    },
    {
      "cell_type": "code",
      "source": [
        "from pyspark.sql.functions import *\n",
        "\n",
        "transactions = transactions.withColumn('t_dat', to_date(\"t_dat\"))"
      ],
      "metadata": {
        "id": "OtybxnXcZQhw"
      },
      "execution_count": null,
      "outputs": []
    },
    {
      "cell_type": "code",
      "source": [
        "# filter only 2020\n",
        "sales =  transactions.withColumn('t_dat', transactions['t_dat'].cast('string'))\n",
        "sales = sales.withColumn('date', from_unixtime(unix_timestamp('t_dat', 'yyyy-MM-dd')))\n",
        "sales = sales.withColumn('year', year(col('date')))\n",
        "sales = sales.withColumn('month', month(col('date')))\n",
        "\n",
        "# Let's filter the data to start with\n",
        "sales = sales[sales['year'] == 2020]\n",
        "sales = sales[sales['month'] == 1]\n",
        "\n",
        "transactions.unpersist()\n",
        "\n",
        "# Prepare the dataset\n",
        "sales = sales.groupby('customer_id', 'article_id').count()\n",
        "sales.show(5)"
      ],
      "metadata": {
        "colab": {
          "base_uri": "https://localhost:8080/"
        },
        "id": "DgKt4voAY-od",
        "outputId": "8c9946be-090a-4ecb-bf85-f4414c574679"
      },
      "execution_count": null,
      "outputs": [
        {
          "output_type": "stream",
          "name": "stdout",
          "text": [
            "+--------------------+----------+-----+\n",
            "|         customer_id|article_id|count|\n",
            "+--------------------+----------+-----+\n",
            "|0101b86c9ea4581da...|0822138002|    1|\n",
            "|05b6661e851f78bc0...|0783517002|    1|\n",
            "|16d13b0db3658a9fd...|0801327001|    1|\n",
            "|17f52fdadc1209858...|0762846008|    1|\n",
            "|1de87318baafea4da...|0788633001|    1|\n",
            "+--------------------+----------+-----+\n",
            "only showing top 5 rows\n",
            "\n"
          ]
        }
      ]
    },
    {
      "cell_type": "code",
      "source": [
        "\n",
        "from pyspark.ml.evaluation import RegressionEvaluator\n",
        "from pyspark.ml.recommendation import ALS"
      ],
      "metadata": {
        "id": "s4FhVazxY-rB"
      },
      "execution_count": null,
      "outputs": []
    },
    {
      "cell_type": "markdown",
      "source": [
        "customer id를 인데스로 변환\n"
      ],
      "metadata": {
        "id": "Xl7ITibg9aSs"
      }
    },
    {
      "cell_type": "code",
      "source": [
        "from pyspark.ml.feature import StringIndexer\n",
        "from pyspark.ml import Pipeline\n",
        "from pyspark.sql.functions import col\n",
        "\n",
        "indexer = [StringIndexer(inputCol=column, outputCol=column+\"_index\") for column in list(set(sales.columns)-set(['count'])) ]\n",
        "pipeline = Pipeline(stages=indexer)\n",
        "transformed = pipeline.fit(sales).transform(sales)\n",
        "transformed.show(5)"
      ],
      "metadata": {
        "colab": {
          "base_uri": "https://localhost:8080/"
        },
        "id": "a7qQlVV7Y-s0",
        "outputId": "ef4c3602-8b0b-49bd-b44a-ad1a03a8c382"
      },
      "execution_count": null,
      "outputs": [
        {
          "output_type": "stream",
          "name": "stdout",
          "text": [
            "+--------------------+----------+-----+----------------+-----------------+\n",
            "|         customer_id|article_id|count|article_id_index|customer_id_index|\n",
            "+--------------------+----------+-----+----------------+-----------------+\n",
            "|0101b86c9ea4581da...|0822138002|    1|         10419.0|          14556.0|\n",
            "|05b6661e851f78bc0...|0783517002|    1|          1739.0|          39354.0|\n",
            "|16d13b0db3658a9fd...|0801327001|    1|          3228.0|           1107.0|\n",
            "|17f52fdadc1209858...|0762846008|    1|            61.0|          70733.0|\n",
            "|1de87318baafea4da...|0788633001|    1|          3222.0|           1274.0|\n",
            "+--------------------+----------+-----+----------------+-----------------+\n",
            "only showing top 5 rows\n",
            "\n"
          ]
        }
      ]
    },
    {
      "cell_type": "markdown",
      "source": [
        "사용자:구매항목 데이터셋 8:2로 분리\n"
      ],
      "metadata": {
        "id": "S-BaifkO-Qnv"
      }
    },
    {
      "cell_type": "code",
      "source": [
        "(training,test)=transformed.randomSplit([0.8, 0.2])\n",
        "\n",
        "als=ALS(maxIter=5,regParam=0.09,rank=25,userCol=\"customer_id_index\",itemCol=\"article_id_index\",ratingCol=\"count\",coldStartStrategy=\"drop\",nonnegative=True)\n",
        "model=als.fit(training)"
      ],
      "metadata": {
        "id": "msjY-yP3Y-vl"
      },
      "execution_count": null,
      "outputs": []
    },
    {
      "cell_type": "code",
      "source": [
        "evaluator=RegressionEvaluator(metricName=\"rmse\",labelCol=\"count\",predictionCol=\"prediction\")\n",
        "predictions=model.transform(test)\n",
        "rmse=evaluator.evaluate(predictions)\n",
        "print(\"RMSE=\"+str(rmse))\n",
        "predictions.show(5)"
      ],
      "metadata": {
        "colab": {
          "base_uri": "https://localhost:8080/"
        },
        "id": "Ro_4nH7GY-xo",
        "outputId": "6dde6b6f-d1ad-4d6e-9da4-59a1fac407ce"
      },
      "execution_count": null,
      "outputs": [
        {
          "output_type": "stream",
          "name": "stdout",
          "text": [
            "RMSE=0.5255790318061214\n",
            "+--------------------+----------+-----+----------------+-----------------+----------+\n",
            "|         customer_id|article_id|count|article_id_index|customer_id_index|prediction|\n",
            "+--------------------+----------+-----+----------------+-----------------+----------+\n",
            "|da624600418470043...|0428291016|    1|           917.0|              1.0| 0.9377146|\n",
            "|da624600418470043...|0428291017|    1|          3963.0|              1.0|0.90688604|\n",
            "|da624600418470043...|0752814006|    1|          1428.0|              1.0| 0.9666817|\n",
            "|da624600418470043...|0754362006|    1|           705.0|              1.0| 0.9435724|\n",
            "|da624600418470043...|0764520002|    1|          1346.0|              1.0| 0.9159045|\n",
            "+--------------------+----------+-----+----------------+-----------------+----------+\n",
            "only showing top 5 rows\n",
            "\n"
          ]
        }
      ]
    },
    {
      "cell_type": "code",
      "source": [
        "# Assuming you have a dictionary article_id_to_image_file that maps article_id_index to image file paths\n",
        "\n",
        "def load_image_for_customer(customer_id):\n",
        "    # Filter predictions to get rows corresponding to the specified customer_id\n",
        "    customer_predictions = predictions.filter(predictions['customer_id_index'] == customer_id)\n",
        "\n",
        "    # Get the first row of the customer's predictions (you can modify this depending on your requirements)\n",
        "    prediction_row = customer_predictions.head(1)[0]\n",
        "\n",
        "    # Get the corresponding article_id_index from the prediction row\n",
        "    article_id_index = int(prediction_row['article_id_index'])\n",
        "\n",
        "    # Assuming article_id_to_image_file is a dictionary mapping article_id_index to image file paths\n",
        "    image_file_path = article_id_to_image_file.get(article_id_index)\n",
        "\n",
        "    if image_file_path:\n",
        "        # Here you can add code to load the image using the image_file_path\n",
        "        # For example, using a library like PIL (Python Imaging Library)\n",
        "        from PIL import Image\n",
        "        image = Image.open(image_file_path)\n",
        "        image.show()\n",
        "    else:\n",
        "        print(\"Image not found for the specified customer and article.\")\n"
      ],
      "metadata": {
        "id": "yg338XQ5Y-zx"
      },
      "execution_count": null,
      "outputs": []
    },
    {
      "cell_type": "code",
      "source": [
        "# Assuming you have a dictionary article_id_to_image_file that maps article_id_index to image file paths\n",
        "\n",
        "def load_image_for_customer(customer_id):\n",
        "    # ... (same as before)\n",
        "\n",
        "# Get the first customer_id_index from the predictions DataFrame\n",
        "  first_customer_id_index = predictions.select(\"customer_id_index\").head(1)[0][0]\n",
        "\n",
        "# Call the load_image_for_customer function with the first_customer_id_index\n",
        "  load_image_for_customer(first_customer_id_index)\n"
      ],
      "metadata": {
        "id": "WjtRZD1tY-1r"
      },
      "execution_count": null,
      "outputs": []
    }
  ]
}